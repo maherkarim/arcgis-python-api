{
 "cells": [
  {
   "cell_type": "markdown",
   "metadata": {},
   "source": [
    "## Visualizing Spatial Data\n",
    "The Spatial Dataframe has a `plot()` method that uses a syntax and symbology similar to [`matplotlib`](https://matplotlib.org) for visualizing features on a map. With this functionality, you can easily visualize aspects of your data both on a map and on a matplotlib chart using the same symbology!\n",
    "\n",
    "Some unique characteristics of working with the visualization capabalities on the SDF:\n",
    "- Uses Pythonic syntax\n",
    "- Uses the same syntax as visualizing charts on Pandas DataFrames\n",
    "- Uses symbology familiar to users of matplotlib\n",
    "- Works on features and attributes simultaneously, eliminating to a great extent the need to iterate over all features (rows)\n",
    "- Handles reading and writing to multiple formats aiding data conversion\n",
    "\n",
    "Checkout the [Introduction to Spatial DataFrame](/python/guide/features-module/introduction-to-spatial-dataframe) guide to learn how to create a Spatial DataFrame."
   ]
  },
  {
   "cell_type": "markdown",
   "metadata": {},
   "source": [
    "In this guide, you will learn about:\n",
    "\n",
    " * [Quickstart](#Quickstart)\n",
    "   * [Plotting the `SpatialDataFarme`](#Plotting-the-SpatialDataFrame)\n",
    " * [Understanding renderers](#Understanding-renderers)\n",
    "   * [Supported renderers](#Supported-renderers)\n",
    "   * [Visualizing unique values](#Visualizing-unique-values)\n",
    "   * [Visualizing classes with different colors](#Visualizing-classes-with-different-colors)\n",
    " * [ColorMaps and Colors](#Colormaps-and-Colors)\n",
    " * [Symbology for Simple Renderers](#Symbology-for-Simple-Renderers)\n",
    "   * [Getting the different symbol styles](#Getting-the-different-symbol-styles)\n",
    "   * [Visualizing line features suing simple renderers](#Visualizing-line-features-using-simple-symbols)\n",
    "   * [Visualizing area features using simple renderers](#Visualizing-area-features-using-different-symbols)"
   ]
  },
  {
   "cell_type": "markdown",
   "metadata": {
    "heading_collapsed": true
   },
   "source": [
    "## Quickstart\n",
    "Let us read a census data on major cities and load that into a `SpatialDataFrame`"
   ]
  },
  {
   "cell_type": "code",
   "execution_count": 1,
   "metadata": {
    "hidden": true
   },
   "outputs": [
    {
     "data": {
      "text/html": [
       "<div>\n",
       "<style scoped>\n",
       "    .dataframe tbody tr th:only-of-type {\n",
       "        vertical-align: middle;\n",
       "    }\n",
       "\n",
       "    .dataframe tbody tr th {\n",
       "        vertical-align: top;\n",
       "    }\n",
       "\n",
       "    .dataframe thead th {\n",
       "        text-align: right;\n",
       "    }\n",
       "</style>\n",
       "<table border=\"1\" class=\"dataframe\">\n",
       "  <thead>\n",
       "    <tr style=\"text-align: right;\">\n",
       "      <th></th>\n",
       "      <th>AGE_10_14</th>\n",
       "      <th>AGE_15_19</th>\n",
       "      <th>AGE_20_24</th>\n",
       "      <th>AGE_25_34</th>\n",
       "      <th>AGE_35_44</th>\n",
       "      <th>AGE_45_54</th>\n",
       "      <th>AGE_55_64</th>\n",
       "      <th>AGE_5_9</th>\n",
       "      <th>AGE_65_74</th>\n",
       "      <th>AGE_75_84</th>\n",
       "      <th>...</th>\n",
       "      <th>PLACEFIPS</th>\n",
       "      <th>POP2010</th>\n",
       "      <th>POPULATION</th>\n",
       "      <th>POP_CLASS</th>\n",
       "      <th>RENTER_OCC</th>\n",
       "      <th>ST</th>\n",
       "      <th>STFIPS</th>\n",
       "      <th>VACANT</th>\n",
       "      <th>WHITE</th>\n",
       "      <th>SHAPE</th>\n",
       "    </tr>\n",
       "  </thead>\n",
       "  <tbody>\n",
       "    <tr>\n",
       "      <th>0</th>\n",
       "      <td>1413</td>\n",
       "      <td>1381</td>\n",
       "      <td>1106</td>\n",
       "      <td>2138</td>\n",
       "      <td>1815</td>\n",
       "      <td>1411</td>\n",
       "      <td>979</td>\n",
       "      <td>1557</td>\n",
       "      <td>525</td>\n",
       "      <td>307</td>\n",
       "      <td>...</td>\n",
       "      <td>0468080</td>\n",
       "      <td>14287</td>\n",
       "      <td>14980</td>\n",
       "      <td>6</td>\n",
       "      <td>1074</td>\n",
       "      <td>AZ</td>\n",
       "      <td>04</td>\n",
       "      <td>261</td>\n",
       "      <td>9196</td>\n",
       "      <td>{'x': -12768343.256613126, 'y': 3842463.708135...</td>\n",
       "    </tr>\n",
       "    <tr>\n",
       "      <th>1</th>\n",
       "      <td>727</td>\n",
       "      <td>738</td>\n",
       "      <td>677</td>\n",
       "      <td>1380</td>\n",
       "      <td>1185</td>\n",
       "      <td>1333</td>\n",
       "      <td>1087</td>\n",
       "      <td>740</td>\n",
       "      <td>661</td>\n",
       "      <td>444</td>\n",
       "      <td>...</td>\n",
       "      <td>0602042</td>\n",
       "      <td>9932</td>\n",
       "      <td>10239</td>\n",
       "      <td>6</td>\n",
       "      <td>2056</td>\n",
       "      <td>CA</td>\n",
       "      <td>06</td>\n",
       "      <td>267</td>\n",
       "      <td>8273</td>\n",
       "      <td>{'x': -13613950.337588644, 'y': 4931686.754090...</td>\n",
       "    </tr>\n",
       "    <tr>\n",
       "      <th>2</th>\n",
       "      <td>593</td>\n",
       "      <td>511</td>\n",
       "      <td>2323</td>\n",
       "      <td>2767</td>\n",
       "      <td>746</td>\n",
       "      <td>127</td>\n",
       "      <td>34</td>\n",
       "      <td>1229</td>\n",
       "      <td>4</td>\n",
       "      <td>2</td>\n",
       "      <td>...</td>\n",
       "      <td>0610561</td>\n",
       "      <td>10616</td>\n",
       "      <td>11869</td>\n",
       "      <td>6</td>\n",
       "      <td>2558</td>\n",
       "      <td>CA</td>\n",
       "      <td>06</td>\n",
       "      <td>296</td>\n",
       "      <td>7530</td>\n",
       "      <td>{'x': -13066582.116550362, 'y': 3925650.676616...</td>\n",
       "    </tr>\n",
       "    <tr>\n",
       "      <th>3</th>\n",
       "      <td>888</td>\n",
       "      <td>988</td>\n",
       "      <td>900</td>\n",
       "      <td>1729</td>\n",
       "      <td>1479</td>\n",
       "      <td>1443</td>\n",
       "      <td>959</td>\n",
       "      <td>766</td>\n",
       "      <td>514</td>\n",
       "      <td>280</td>\n",
       "      <td>...</td>\n",
       "      <td>0613560</td>\n",
       "      <td>10866</td>\n",
       "      <td>11195</td>\n",
       "      <td>6</td>\n",
       "      <td>761</td>\n",
       "      <td>CA</td>\n",
       "      <td>06</td>\n",
       "      <td>86</td>\n",
       "      <td>5898</td>\n",
       "      <td>{'x': -13123874.446103057, 'y': 4044249.710416...</td>\n",
       "    </tr>\n",
       "    <tr>\n",
       "      <th>4</th>\n",
       "      <td>1086</td>\n",
       "      <td>1228</td>\n",
       "      <td>1013</td>\n",
       "      <td>1822</td>\n",
       "      <td>1759</td>\n",
       "      <td>1478</td>\n",
       "      <td>1112</td>\n",
       "      <td>925</td>\n",
       "      <td>687</td>\n",
       "      <td>477</td>\n",
       "      <td>...</td>\n",
       "      <td>0614974</td>\n",
       "      <td>12823</td>\n",
       "      <td>13009</td>\n",
       "      <td>6</td>\n",
       "      <td>1763</td>\n",
       "      <td>CA</td>\n",
       "      <td>06</td>\n",
       "      <td>88</td>\n",
       "      <td>6930</td>\n",
       "      <td>{'x': -13151212.145276317, 'y': 4027601.332347...</td>\n",
       "    </tr>\n",
       "  </tbody>\n",
       "</table>\n",
       "<p>5 rows × 51 columns</p>\n",
       "</div>"
      ],
      "text/plain": [
       "   AGE_10_14  AGE_15_19  AGE_20_24  AGE_25_34  AGE_35_44  AGE_45_54  \\\n",
       "0       1413       1381       1106       2138       1815       1411   \n",
       "1        727        738        677       1380       1185       1333   \n",
       "2        593        511       2323       2767        746        127   \n",
       "3        888        988        900       1729       1479       1443   \n",
       "4       1086       1228       1013       1822       1759       1478   \n",
       "\n",
       "   AGE_55_64  AGE_5_9  AGE_65_74  AGE_75_84  \\\n",
       "0        979     1557        525        307   \n",
       "1       1087      740        661        444   \n",
       "2         34     1229          4          2   \n",
       "3        959      766        514        280   \n",
       "4       1112      925        687        477   \n",
       "\n",
       "                         ...                          PLACEFIPS  POP2010  \\\n",
       "0                        ...                            0468080    14287   \n",
       "1                        ...                            0602042     9932   \n",
       "2                        ...                            0610561    10616   \n",
       "3                        ...                            0613560    10866   \n",
       "4                        ...                            0614974    12823   \n",
       "\n",
       "   POPULATION  POP_CLASS  RENTER_OCC  ST  STFIPS VACANT WHITE  \\\n",
       "0       14980          6        1074  AZ      04    261  9196   \n",
       "1       10239          6        2056  CA      06    267  8273   \n",
       "2       11869          6        2558  CA      06    296  7530   \n",
       "3       11195          6         761  CA      06     86  5898   \n",
       "4       13009          6        1763  CA      06     88  6930   \n",
       "\n",
       "                                               SHAPE  \n",
       "0  {'x': -12768343.256613126, 'y': 3842463.708135...  \n",
       "1  {'x': -13613950.337588644, 'y': 4931686.754090...  \n",
       "2  {'x': -13066582.116550362, 'y': 3925650.676616...  \n",
       "3  {'x': -13123874.446103057, 'y': 4044249.710416...  \n",
       "4  {'x': -13151212.145276317, 'y': 4027601.332347...  \n",
       "\n",
       "[5 rows x 51 columns]"
      ]
     },
     "execution_count": 1,
     "metadata": {},
     "output_type": "execute_result"
    }
   ],
   "source": [
    "from arcgis import GIS\n",
    "\n",
    "# create an anonymous connection to ArcGIS Online and get a public item\n",
    "item = GIS(verify_cert=False).content.get(\"85d0ca4ea1ca4b9abf0c51b9bd34de2e\")\n",
    "flayer = item.layers[0]\n",
    "\n",
    "# Specify a SQL query and get a SpatialDataFrame object\n",
    "df = flayer.query(where=\"AGE_45_54 < 1500\").df\n",
    "\n",
    "# Visualize the top 5 records\n",
    "df.head()"
   ]
  },
  {
   "cell_type": "markdown",
   "metadata": {
    "hidden": true
   },
   "source": [
    "> Note: If the above cell looks new to you, please checkout the [Introduction to Spatial DataFrame](/python/guide/features-module/introduction-to-spatial-dataframe) guide."
   ]
  },
  {
   "cell_type": "markdown",
   "metadata": {
    "hidden": true
   },
   "source": [
    "Let us create a map of the United States"
   ]
  },
  {
   "cell_type": "code",
   "execution_count": null,
   "metadata": {
    "hidden": true
   },
   "outputs": [],
   "source": [
    "m1 = GIS().map('United States')\n",
    "m1"
   ]
  },
  {
   "cell_type": "markdown",
   "metadata": {
    "hidden": true
   },
   "source": [
    "![map of US diamonds](http://esri.github.io/arcgis-python-api/notebooks/nbimages/13_3_map_dfplot1a.png)"
   ]
  },
  {
   "cell_type": "code",
   "execution_count": 3,
   "metadata": {
    "hidden": true
   },
   "outputs": [],
   "source": [
    "m1.zoom = 4\n",
    "m1.center = [39,-98]"
   ]
  },
  {
   "cell_type": "markdown",
   "metadata": {
    "hidden": true
   },
   "source": [
    "### Plotting the SpatialDataFrame\n",
    "You can quickly visualize the points by calling the `plot()` method off the `SpatialDataFrame` object and passing the map you created above."
   ]
  },
  {
   "cell_type": "code",
   "execution_count": 4,
   "metadata": {
    "hidden": true
   },
   "outputs": [
    {
     "data": {
      "text/plain": [
       "True"
      ]
     },
     "execution_count": 4,
     "metadata": {},
     "output_type": "execute_result"
    }
   ],
   "source": [
    "df.plot(kind='map', map_widget= m1)"
   ]
  },
  {
   "cell_type": "markdown",
   "metadata": {
    "hidden": true
   },
   "source": [
    "You can customize the symbols, their color, shape, border etc. like you would in a typical matplotlib plot. The rest of this guide talks about such customizations and suggestions to visualize your spatial and non-spatial data.\n",
    "\n",
    "The code below plots the same set of points on a new map using a common structure used amongst many different Python packages for defining symbology. It is built off of the matplotlib libraries for simple, straightforward plotting. We'll explain some of the parameters below, and the [`plot()`](https://esri.github.io/arcgis-python-api/apidoc/html/arcgis.features.toc.html#arcgis.features.SpatialDataFrame.plot) API Reference outlines more options."
   ]
  },
  {
   "cell_type": "code",
   "execution_count": null,
   "metadata": {
    "hidden": true
   },
   "outputs": [],
   "source": [
    "m2= GIS().map('United States', zoomlevel=4)\n",
    "m2"
   ]
  },
  {
   "cell_type": "markdown",
   "metadata": {
    "hidden": true
   },
   "source": [
    "![map of US diamonds](http://esri.github.io/arcgis-python-api/notebooks/nbimages/13_3_map_dfplot1.png)"
   ]
  },
  {
   "cell_type": "code",
   "execution_count": 6,
   "metadata": {
    "hidden": true
   },
   "outputs": [
    {
     "data": {
      "text/plain": [
       "True"
      ]
     },
     "execution_count": 6,
     "metadata": {},
     "output_type": "execute_result"
    }
   ],
   "source": [
    "m2.center=[39,-98]\n",
    "df.plot(kind='map', \n",
    "        map_widget=m2,\n",
    "        symbol_type='simple',\n",
    "        symbol_style='d', # d - for diamonds\n",
    "        colors='Reds_r',\n",
    "        cstep=10,\n",
    "        outline_color='Blues',\n",
    "        marker_size=10)"
   ]
  },
  {
   "cell_type": "markdown",
   "metadata": {
    "hidden": true
   },
   "source": [
    "If this type of plotting is new to you, this is a good time to checkout [`matplotlib.pyplot`](https://matplotlib.org/api/pyplot_summary.html) documentation and Pandas dataframe [`plot`](https://pandas.pydata.org/pandas-docs/stable/generated/pandas.DataFrame.plot.html) documentation to get an idea."
   ]
  },
  {
   "cell_type": "markdown",
   "metadata": {
    "heading_collapsed": true
   },
   "source": [
    "## Understanding renderers"
   ]
  },
  {
   "cell_type": "markdown",
   "metadata": {
    "hidden": true
   },
   "source": [
    "In the snippets above, you visualized all the features with the same symbology. While this helps understand the geographic distribution of your data, your `SpatialDataFrame` object can do much more. For instance, you can group the features based on certain attributes that you choose and symbolize each group by a certain color or size or both. To help with this, let us understand the concept of **renderers**.\n",
    "\n",
    "[`Renderers`](https://developers.arcgis.com/documentation/common-data-types/renderer-objects.htm) define how to visually represent a `feature layer` by defining [`symbols`](https://developers.arcgis.com/documentation/common-data-types/symbol-objects.htm) to represent individual features. The SDF provides you with functionality to control the way features appear by choosing the `symbol` the renderer uses.\n",
    "\n",
    "Previous versions of the ArcGIS API for Python provided a method to specify a renderer manually, but you had to know details about the renderer before you drew your data. The [`map.add_layer()`]() method did not provide access to all options avialble for rendering datasets. The new visualization capabilities provided by the SDF allow you to draw spatial data quickly and easily with access to more rendering options."
   ]
  },
  {
   "cell_type": "markdown",
   "metadata": {
    "heading_collapsed": true,
    "hidden": true
   },
   "source": [
    "### Supported renderers\n",
    "The renderering options below are documented in further detail in the [`Spatial DatFrame Reference`](https://esri.github.io/arcgis-python-api/apidoc/html/arcgis.features.toc.html#spatialdataframe). At a high level, you have the following renderers:\n",
    "\n",
    "| Renderer     \t| Syntax \t| Explanation                                                                                 \t|\n",
    "|--------------\t|--------\t|---------------------------------------------------------------------------------------------\t|\n",
    "| Simple       \t| 's'    \t| renders using one symbol only (the examples in [quickstart](#quickstart) above)             \t|\n",
    "| Unique       \t| 'u'    \t| renders each unique value with a different symbol. Suitable for categorical columns         \t|\n",
    "| Class breaks \t| 'c'    \t| renders each group of values with a different color or size. Suitable for numerical columns \t|\n",
    "| Heatmap      \t| 'h'    \t| renders density of point data as raster of varying colors                                   \t|"
   ]
  },
  {
   "cell_type": "markdown",
   "metadata": {
    "heading_collapsed": true,
    "hidden": true
   },
   "source": [
    "### Visualizing unique values\n",
    "Let us explore the major cities census data further and explore if there are any categorical columns"
   ]
  },
  {
   "cell_type": "code",
   "execution_count": 7,
   "metadata": {
    "hidden": true
   },
   "outputs": [
    {
     "data": {
      "text/plain": [
       "Index(['AGE_10_14', 'AGE_15_19', 'AGE_20_24', 'AGE_25_34', 'AGE_35_44',\n",
       "       'AGE_45_54', 'AGE_55_64', 'AGE_5_9', 'AGE_65_74', 'AGE_75_84',\n",
       "       'AGE_85_UP', 'AGE_UNDER5', 'AMERI_ES', 'ASIAN', 'AVE_FAM_SZ',\n",
       "       'AVE_HH_SZ', 'BLACK', 'CAPITAL', 'CLASS', 'FAMILIES', 'FEMALES',\n",
       "       'FHH_CHILD', 'FID', 'HAWN_PI', 'HISPANIC', 'HOUSEHOLDS', 'HSEHLD_1_F',\n",
       "       'HSEHLD_1_M', 'HSE_UNITS', 'MALES', 'MARHH_CHD', 'MARHH_NO_C',\n",
       "       'MED_AGE', 'MED_AGE_F', 'MED_AGE_M', 'MHH_CHILD', 'MULT_RACE', 'NAME',\n",
       "       'OBJECTID', 'OTHER', 'OWNER_OCC', 'PLACEFIPS', 'POP2010', 'POPULATION',\n",
       "       'POP_CLASS', 'RENTER_OCC', 'ST', 'STFIPS', 'VACANT', 'WHITE', 'SHAPE'],\n",
       "      dtype='object')"
      ]
     },
     "execution_count": 7,
     "metadata": {},
     "output_type": "execute_result"
    }
   ],
   "source": [
    "df.columns"
   ]
  },
  {
   "cell_type": "markdown",
   "metadata": {
    "hidden": true
   },
   "source": [
    "The `ST` column contains state names in abbreviation is a good candidate. We could symbolize the points such that all which fall under the same state get the same symbol:"
   ]
  },
  {
   "cell_type": "code",
   "execution_count": 8,
   "metadata": {
    "hidden": true
   },
   "outputs": [
    {
     "data": {
      "text/html": [
       "<div>\n",
       "<style scoped>\n",
       "    .dataframe tbody tr th:only-of-type {\n",
       "        vertical-align: middle;\n",
       "    }\n",
       "\n",
       "    .dataframe tbody tr th {\n",
       "        vertical-align: top;\n",
       "    }\n",
       "\n",
       "    .dataframe thead th {\n",
       "        text-align: right;\n",
       "    }\n",
       "</style>\n",
       "<table border=\"1\" class=\"dataframe\">\n",
       "  <thead>\n",
       "    <tr style=\"text-align: right;\">\n",
       "      <th></th>\n",
       "      <th>ST</th>\n",
       "      <th>NAME</th>\n",
       "    </tr>\n",
       "  </thead>\n",
       "  <tbody>\n",
       "    <tr>\n",
       "      <th>0</th>\n",
       "      <td>AZ</td>\n",
       "      <td>Somerton</td>\n",
       "    </tr>\n",
       "    <tr>\n",
       "      <th>1</th>\n",
       "      <td>CA</td>\n",
       "      <td>Anderson</td>\n",
       "    </tr>\n",
       "    <tr>\n",
       "      <th>2</th>\n",
       "      <td>CA</td>\n",
       "      <td>Camp Pendleton South</td>\n",
       "    </tr>\n",
       "    <tr>\n",
       "      <th>3</th>\n",
       "      <td>CA</td>\n",
       "      <td>Citrus</td>\n",
       "    </tr>\n",
       "    <tr>\n",
       "      <th>4</th>\n",
       "      <td>CA</td>\n",
       "      <td>Commerce</td>\n",
       "    </tr>\n",
       "  </tbody>\n",
       "</table>\n",
       "</div>"
      ],
      "text/plain": [
       "   ST                  NAME\n",
       "0  AZ              Somerton\n",
       "1  CA              Anderson\n",
       "2  CA  Camp Pendleton South\n",
       "3  CA                Citrus\n",
       "4  CA              Commerce"
      ]
     },
     "execution_count": 8,
     "metadata": {},
     "output_type": "execute_result"
    }
   ],
   "source": [
    "df[['ST', 'NAME']].head()"
   ]
  },
  {
   "cell_type": "code",
   "execution_count": null,
   "metadata": {
    "hidden": true
   },
   "outputs": [],
   "source": [
    "gis = GIS()\n",
    "m3 = gis.map('Reno, NV', zoomlevel=4)\n",
    "m3"
   ]
  },
  {
   "cell_type": "markdown",
   "metadata": {
    "hidden": true
   },
   "source": [
    "![unique value renderer](http://esri.github.io/arcgis-python-api/notebooks/nbimages/guide_sdf_unique_value_renderer_1.png)"
   ]
  },
  {
   "cell_type": "code",
   "execution_count": 10,
   "metadata": {
    "hidden": true
   },
   "outputs": [
    {
     "data": {
      "text/plain": [
       "True"
      ]
     },
     "execution_count": 10,
     "metadata": {},
     "output_type": "execute_result"
    }
   ],
   "source": [
    "df.plot(kind='map', map_widget = m3,\n",
    "        renderer_type='u', # specify the unique value renderer using its notation 'u'\n",
    "        col='ST'  # column to get unique values from\n",
    "       )"
   ]
  },
  {
   "cell_type": "markdown",
   "metadata": {
    "hidden": true
   },
   "source": [
    "By default, the API picks a unique color from the [`jet`](https://matplotlib.org/tutorials/colors/colormaps.html) colormap for each category (US State names in this case) and assigns it. You can override this by choosing your own colormap (`prism` for instance) and customizing the symbol style, symbol type, outline color, thickness, transparency etc. Keep reading to learn more about these customizations.\n",
    "\n",
    "It is a good cartographic practice to not have too many unique values in your legend. Human eyes can only preceive so many colors and there are only a limited number of colors to choose from in a given color map before the colors become indistinguishable.\n",
    "\n",
    "As a safe practice, the Python API caps the maximum number of unique values to `256`, the remaining are generalized and plotted with a default color. If you have several unique values, you should consider picking a different column that better represents your data or consider using a different renderer."
   ]
  },
  {
   "cell_type": "markdown",
   "metadata": {
    "heading_collapsed": true,
    "hidden": true
   },
   "source": [
    "### Visualizing classes with different colors\n",
    "Often, you may want to classify the numerical values in your data into groups and visualize them on a map. You can accomplish this with a **class break renderer** which splits your data into specific number of groups and uses **color** to differentiate each group. You can choose the algorithm that performs the class splits or go with the defualt.\n",
    "\n",
    "Let us visualize the same major cities point dataset using its `POPULATION` column."
   ]
  },
  {
   "cell_type": "code",
   "execution_count": 11,
   "metadata": {
    "hidden": true
   },
   "outputs": [
    {
     "data": {
      "text/html": [
       "<div>\n",
       "<style scoped>\n",
       "    .dataframe tbody tr th:only-of-type {\n",
       "        vertical-align: middle;\n",
       "    }\n",
       "\n",
       "    .dataframe tbody tr th {\n",
       "        vertical-align: top;\n",
       "    }\n",
       "\n",
       "    .dataframe thead th {\n",
       "        text-align: right;\n",
       "    }\n",
       "</style>\n",
       "<table border=\"1\" class=\"dataframe\">\n",
       "  <thead>\n",
       "    <tr style=\"text-align: right;\">\n",
       "      <th></th>\n",
       "      <th>ST</th>\n",
       "      <th>NAME</th>\n",
       "      <th>POPULATION</th>\n",
       "    </tr>\n",
       "  </thead>\n",
       "  <tbody>\n",
       "    <tr>\n",
       "      <th>0</th>\n",
       "      <td>AZ</td>\n",
       "      <td>Somerton</td>\n",
       "      <td>14980</td>\n",
       "    </tr>\n",
       "    <tr>\n",
       "      <th>1</th>\n",
       "      <td>CA</td>\n",
       "      <td>Anderson</td>\n",
       "      <td>10239</td>\n",
       "    </tr>\n",
       "    <tr>\n",
       "      <th>2</th>\n",
       "      <td>CA</td>\n",
       "      <td>Camp Pendleton South</td>\n",
       "      <td>11869</td>\n",
       "    </tr>\n",
       "    <tr>\n",
       "      <th>3</th>\n",
       "      <td>CA</td>\n",
       "      <td>Citrus</td>\n",
       "      <td>11195</td>\n",
       "    </tr>\n",
       "    <tr>\n",
       "      <th>4</th>\n",
       "      <td>CA</td>\n",
       "      <td>Commerce</td>\n",
       "      <td>13009</td>\n",
       "    </tr>\n",
       "  </tbody>\n",
       "</table>\n",
       "</div>"
      ],
      "text/plain": [
       "   ST                  NAME  POPULATION\n",
       "0  AZ              Somerton       14980\n",
       "1  CA              Anderson       10239\n",
       "2  CA  Camp Pendleton South       11869\n",
       "3  CA                Citrus       11195\n",
       "4  CA              Commerce       13009"
      ]
     },
     "execution_count": 11,
     "metadata": {},
     "output_type": "execute_result"
    }
   ],
   "source": [
    "df[['ST', 'NAME', 'POPULATION']].head()"
   ]
  },
  {
   "cell_type": "code",
   "execution_count": null,
   "metadata": {
    "hidden": true
   },
   "outputs": [],
   "source": [
    "m4 = gis.map('Reno, NV', zoomlevel=4)\n",
    "m4"
   ]
  },
  {
   "cell_type": "markdown",
   "metadata": {
    "hidden": true
   },
   "source": [
    "![class color renderer](http://esri.github.io/arcgis-python-api/notebooks/nbimages/guide_sdf_class_breaks_color_1.png)"
   ]
  },
  {
   "cell_type": "code",
   "execution_count": 13,
   "metadata": {
    "hidden": true
   },
   "outputs": [
    {
     "data": {
      "text/plain": [
       "True"
      ]
     },
     "execution_count": 13,
     "metadata": {},
     "output_type": "execute_result"
    }
   ],
   "source": [
    "df.plot(kind='map', map_widget=m4,\n",
    "        renderer_type='c',  # for class breaks renderer\n",
    "        method='esriClassifyNaturalBreaks',  # classification algorithm\n",
    "        class_count=20,  # choose the number of classes\n",
    "        col='POPULATION',  # numeric column to classify\n",
    "       cmap='prism',  # color map to pick colors from for each class\n",
    "        alpha=0.7  # specify opacity\n",
    "       )"
   ]
  },
  {
   "cell_type": "markdown",
   "metadata": {
    "hidden": true
   },
   "source": [
    "You can take this further by plotting a histogram of the same `POPULATION` column and try to match the colors. To get the class breaks for the above map, you can inspect the layer definition from `MapView` object as shown below:"
   ]
  },
  {
   "cell_type": "code",
   "execution_count": 14,
   "metadata": {
    "hidden": true
   },
   "outputs": [
    {
     "data": {
      "text/plain": [
       "[<FeatureCollection>]"
      ]
     },
     "execution_count": 14,
     "metadata": {},
     "output_type": "execute_result"
    }
   ],
   "source": [
    "m4.layers"
   ]
  },
  {
   "cell_type": "code",
   "execution_count": 15,
   "metadata": {
    "hidden": true
   },
   "outputs": [
    {
     "data": {
      "text/plain": [
       "dict_keys(['type', 'rotationType', 'minValue', 'field', 'defaultSymbol', 'defaultLabel', 'classificationMethod', 'classBreakInfos'])"
      ]
     },
     "execution_count": 15,
     "metadata": {},
     "output_type": "execute_result"
    }
   ],
   "source": [
    "dict(m4.layers[0].layer.layerDefinition.drawingInfo.renderer).keys()"
   ]
  },
  {
   "cell_type": "code",
   "execution_count": 16,
   "metadata": {
    "hidden": true
   },
   "outputs": [
    {
     "name": "stdout",
     "output_type": "stream",
     "text": [
      "20\n"
     ]
    }
   ],
   "source": [
    "class_breaks = m4.layers[0].layer.layerDefinition.drawingInfo.renderer.classBreakInfos\n",
    "print(len(class_breaks))"
   ]
  },
  {
   "cell_type": "markdown",
   "metadata": {
    "hidden": true
   },
   "source": [
    "We can loop through each of the class breaks and obtain the min, max values and the colors for each class."
   ]
  },
  {
   "cell_type": "code",
   "execution_count": 17,
   "metadata": {
    "hidden": true
   },
   "outputs": [
    {
     "name": "stdout",
     "output_type": "stream",
     "text": [
      "7809.0 - 10844.421052631578\n",
      "10844.421052631578 - 13879.842105263157\n",
      "13879.842105263157 - 16915.263157894737\n",
      "16915.263157894737 - 19950.684210526313\n",
      "19950.684210526313 - 22986.105263157893\n",
      "22986.105263157893 - 26021.526315789473\n",
      "26021.526315789473 - 29056.94736842105\n",
      "29056.94736842105 - 32092.36842105263\n",
      "32092.36842105263 - 35127.78947368421\n",
      "35127.78947368421 - 38163.21052631579\n",
      "38163.21052631579 - 41198.63157894737\n",
      "41198.63157894737 - 44234.05263157895\n",
      "44234.05263157895 - 47269.47368421053\n",
      "47269.47368421053 - 50304.8947368421\n",
      "50304.8947368421 - 53340.31578947368\n",
      "53340.31578947368 - 56375.73684210526\n",
      "56375.73684210526 - 59411.15789473684\n",
      "59411.15789473684 - 62446.57894736842\n",
      "62446.57894736842 - 65482.0\n",
      "65482.0 - 65482.0\n"
     ]
    }
   ],
   "source": [
    "cbs_list = []\n",
    "cmap_list = []\n",
    "for cb in class_breaks:\n",
    "    print(cb.description)  # print the class break labels\n",
    "    cbs_list.append(cb.classMaxValue)\n",
    "    cmap_list.append([x/255.0 for x in cb.symbol.color])"
   ]
  },
  {
   "cell_type": "markdown",
   "metadata": {
    "hidden": true
   },
   "source": [
    "Now that we have the individual class splits and the colors, we can plot a histogram using the same breaks and colors."
   ]
  },
  {
   "cell_type": "code",
   "execution_count": 18,
   "metadata": {
    "hidden": true
   },
   "outputs": [
    {
     "data": {
      "text/plain": [
       "Text(0.5,1,'Histogram of POPULATION column')"
      ]
     },
     "execution_count": 18,
     "metadata": {},
     "output_type": "execute_result"
    },
    {
     "data": {
      "image/png": "[encoded data removed]",
      "text/plain": [
       "<Figure size 432x288 with 1 Axes>"
      ]
     },
     "metadata": {},
     "output_type": "display_data"
    }
   ],
   "source": [
    "import matplotlib.pyplot as plt\n",
    "# build a histogram for the same class breaks\n",
    "n, bins, patches = plt.hist(df['POPULATION'], bins=cbs_list)\n",
    "\n",
    "# apply the same color for each class to match the map\n",
    "idx = 0\n",
    "for c, p in zip(bins, patches):\n",
    "    plt.setp(p, 'facecolor', cmap_list[idx])\n",
    "    idx+=1\n",
    "\n",
    "plt.title('Histogram of POPULATION column')"
   ]
  },
  {
   "cell_type": "markdown",
   "metadata": {
    "hidden": true
   },
   "source": [
    "The shape and color of the bars in the histogram match with the number and color of major cities drawn on the map.\n",
    "\n",
    "Thus using the `SpatialDataFrame` we can easily visualize both the spatial and numeric distribution of data using the same symbology."
   ]
  },
  {
   "cell_type": "markdown",
   "metadata": {
    "heading_collapsed": true
   },
   "source": [
    "## Colormaps and Colors\n",
    "The examples above use the default colormap `jet`. However you can customize them by using the `colors` paramater. You can specify colors as:\n",
    " * a string representing [named colors](https://matplotlib.org/examples/color/named_colors.html)\n",
    " * an array of [RGB](http://www.tomjewett.com/colors/rgb.html) values\n",
    " * a named [color ramp](https://matplotlib.org/examples/color/colormaps_reference.html). \n",
    "\n",
    "#### Color Array\n",
    "\n",
    "RGB + Alpha values can be used to create colors for symbols called in the `plot` method.  RGB stands for red, green, and blue respectively. Each RGB value is a value between 0-255, and the alpha value is a number between 0-255.\n",
    "\n",
    "**Example to produce :**\n",
    "\n",
    "    color = [255,0,100,1]\n",
    "\n",
    "The above example produces a purplish color. Many websites provide details about using colors. For example, see [here](https://www.rapidtables.com/web/color/RGB_Color.html) for a color codes chart.\n",
    "\n",
    "#### Color Maps\n",
    "\n",
    "A color map is a collection of string values that can be given to generate a series of related colors from a defined set.\n",
    "\n",
    "Color maps can be viewed here: https://matplotlib.org/examples/color/colormaps_reference.html\n",
    "\n",
    "#### Color Map Helpers\n",
    "\n",
    "To better understand the syntax for each input type, the ArcGIS API for Python provides some helper functions:"
   ]
  },
  {
   "cell_type": "code",
   "execution_count": 23,
   "metadata": {
    "hidden": true
   },
   "outputs": [],
   "source": [
    "from arcgis.mapping import display_colormaps"
   ]
  },
  {
   "cell_type": "markdown",
   "metadata": {
    "hidden": true
   },
   "source": [
    "The **display_colormaps** function provides a quick, easy way to visualize the pre-defined set of colormaps you can use.  "
   ]
  },
  {
   "cell_type": "code",
   "execution_count": null,
   "metadata": {
    "hidden": true
   },
   "outputs": [],
   "source": [
    "display_colormaps()"
   ]
  },
  {
   "cell_type": "markdown",
   "metadata": {},
   "source": [
    "![colormap display](http://esri.github.io/arcgis-python-api/notebooks/nbimages/13_display_colormaps.png)"
   ]
  },
  {
   "cell_type": "markdown",
   "metadata": {
    "hidden": true
   },
   "source": [
    "You can retrieve a list of colormaps as well:"
   ]
  },
  {
   "cell_type": "code",
   "execution_count": 25,
   "metadata": {
    "hidden": true
   },
   "outputs": [
    {
     "name": "stdout",
     "output_type": "stream",
     "text": [
      "Accent              Accent_r            Blues               Blues_r             BrBG\n",
      "BrBG_r              BuGn                BuGn_r              BuPu                BuPu_r\n",
      "CMRmap              CMRmap_r            Dark2               Dark2_r             GnBu\n",
      "GnBu_r              Greens              Greens_r            Greys               Greys_r\n",
      "OrRd                OrRd_r              Oranges             Oranges_r           PRGn\n",
      "PRGn_r              Paired              Paired_r            Pastel1             Pastel1_r\n",
      "Pastel2             Pastel2_r           PiYG                PiYG_r              PuBu\n",
      "PuBuGn              PuBuGn_r            PuBu_r              PuOr                PuOr_r\n",
      "PuRd                PuRd_r              Purples             Purples_r           RdBu\n",
      "RdBu_r              RdGy                RdGy_r              RdPu                RdPu_r\n",
      "RdYlBu              RdYlBu_r            RdYlGn              RdYlGn_r            Reds\n",
      "Reds_r              Set1                Set1_r              Set2                Set2_r\n",
      "Set3                Set3_r              Spectral            Spectral_r          Wistia\n",
      "Wistia_r            YlGn                YlGnBu              YlGnBu_r            YlGn_r\n",
      "YlOrBr              YlOrBr_r            YlOrRd              YlOrRd_r            afmhot\n",
      "afmhot_r            autumn              autumn_r            binary              binary_r\n",
      "bone                bone_r              brg                 brg_r               bwr\n",
      "bwr_r               cool                cool_r              coolwarm            coolwarm_r\n",
      "copper              copper_r            cubehelix           cubehelix_r         flag\n",
      "flag_r              gist_earth          gist_earth_r        gist_gray           gist_gray_r\n",
      "gist_heat           gist_heat_r         gist_ncar           gist_ncar_r         gist_rainbow\n",
      "gist_rainbow_r      gist_stern          gist_stern_r        gist_yarg           gist_yarg_r\n",
      "gnuplot             gnuplot2            gnuplot2_r          gnuplot_r           gray\n",
      "gray_r              hot                 hot_r               hsv                 hsv_r\n",
      "inferno             inferno_r           jet                 jet_r               magma\n",
      "magma_r             nipy_spectral       nipy_spectral_r     ocean               ocean_r\n",
      "pink                pink_r              plasma              plasma_r            prism\n",
      "prism_r             rainbow             rainbow_r           seismic             seismic_r\n",
      "spring              spring_r            summer              summer_r            terrain\n",
      "terrain_r           viridis             viridis_r           winter              winter_r\n"
     ]
    }
   ],
   "source": [
    "from arcgis.mapping import symbol\n",
    "\n",
    "colormaps = symbol.ALLOWED_CMAPS\n",
    "for a,b,c,d,e in zip(colormaps[::5], colormaps[1::5], colormaps[2::5], colormaps[3::5], colormaps[4::5]):\n",
    "    print(\"{:<20}{:<20}{:<20}{:<20}{:<}\".format(a,b,c,d,e))"
   ]
  },
  {
   "cell_type": "markdown",
   "metadata": {
    "hidden": true
   },
   "source": [
    "You can enter a list of color ramp names as input to the `display_colormaps` function to filter the output:"
   ]
  },
  {
   "cell_type": "code",
   "execution_count": null,
   "metadata": {
    "hidden": true
   },
   "outputs": [],
   "source": [
    "display_colormaps(['Greens_r', 'PRGn', 'Dark2', 'Set1'])"
   ]
  },
  {
   "cell_type": "markdown",
   "metadata": {
    "hidden": true
   },
   "source": [
    "![selected color ramps](http://esri.github.io/arcgis-python-api/notebooks/nbimages/13_selected_colormaps.png)"
   ]
  },
  {
   "cell_type": "markdown",
   "metadata": {
    "hidden": true
   },
   "source": [
    "The examples above used `jet` which is the default and some used `prism` both of which can be seen in the list above. You can customize your charts by using a different colormap of your choice."
   ]
  },
  {
   "cell_type": "markdown",
   "metadata": {},
   "source": [
    "## Symbology for Simple Renderers\n",
    "\n",
    "The ArcGIS API for Python provides you the ability to set symbol types so you control data appearance. The  [`show_styles`]() function in the `arcgis.mapping` module assists you with the syntax to define symbols.\n",
    "\n",
    "#### Getting the different symbol styles"
   ]
  },
  {
   "cell_type": "code",
   "execution_count": 26,
   "metadata": {},
   "outputs": [],
   "source": [
    "from arcgis.mapping import show_styles"
   ]
  },
  {
   "cell_type": "code",
   "execution_count": 27,
   "metadata": {},
   "outputs": [
    {
     "data": {
      "text/html": [
       "<div>\n",
       "<style scoped>\n",
       "    .dataframe tbody tr th:only-of-type {\n",
       "        vertical-align: middle;\n",
       "    }\n",
       "\n",
       "    .dataframe tbody tr th {\n",
       "        vertical-align: top;\n",
       "    }\n",
       "\n",
       "    .dataframe thead th {\n",
       "        text-align: right;\n",
       "    }\n",
       "</style>\n",
       "<table border=\"1\" class=\"dataframe\">\n",
       "  <thead>\n",
       "    <tr style=\"text-align: right;\">\n",
       "      <th></th>\n",
       "      <th>MARKER</th>\n",
       "      <th>ESRI_STYLE</th>\n",
       "    </tr>\n",
       "  </thead>\n",
       "  <tbody>\n",
       "    <tr>\n",
       "      <th>0</th>\n",
       "      <td>o</td>\n",
       "      <td>Circle (default)</td>\n",
       "    </tr>\n",
       "    <tr>\n",
       "      <th>1</th>\n",
       "      <td>+</td>\n",
       "      <td>Cross</td>\n",
       "    </tr>\n",
       "    <tr>\n",
       "      <th>2</th>\n",
       "      <td>d</td>\n",
       "      <td>Diamond</td>\n",
       "    </tr>\n",
       "    <tr>\n",
       "      <th>3</th>\n",
       "      <td>s</td>\n",
       "      <td>Square</td>\n",
       "    </tr>\n",
       "    <tr>\n",
       "      <th>4</th>\n",
       "      <td>x</td>\n",
       "      <td>X</td>\n",
       "    </tr>\n",
       "  </tbody>\n",
       "</table>\n",
       "</div>"
      ],
      "text/plain": [
       "  MARKER        ESRI_STYLE\n",
       "0      o  Circle (default)\n",
       "1      +             Cross\n",
       "2      d           Diamond\n",
       "3      s            Square\n",
       "4      x                 X"
      ]
     },
     "execution_count": 27,
     "metadata": {},
     "output_type": "execute_result"
    }
   ],
   "source": [
    "# get the styles that are relevant to the current geometry type (points)\n",
    "show_styles(df.geometry_type)  # the SpatialDataFrame in this example is of Point type"
   ]
  },
  {
   "cell_type": "code",
   "execution_count": 28,
   "metadata": {},
   "outputs": [
    {
     "data": {
      "text/html": [
       "<div>\n",
       "<style scoped>\n",
       "    .dataframe tbody tr th:only-of-type {\n",
       "        vertical-align: middle;\n",
       "    }\n",
       "\n",
       "    .dataframe tbody tr th {\n",
       "        vertical-align: top;\n",
       "    }\n",
       "\n",
       "    .dataframe thead th {\n",
       "        text-align: right;\n",
       "    }\n",
       "</style>\n",
       "<table border=\"1\" class=\"dataframe\">\n",
       "  <thead>\n",
       "    <tr style=\"text-align: right;\">\n",
       "      <th></th>\n",
       "      <th>MARKER</th>\n",
       "      <th>ESRI_STYLE</th>\n",
       "    </tr>\n",
       "  </thead>\n",
       "  <tbody>\n",
       "    <tr>\n",
       "      <th>0</th>\n",
       "      <td>\\</td>\n",
       "      <td>Backward Diagonal</td>\n",
       "    </tr>\n",
       "    <tr>\n",
       "      <th>1</th>\n",
       "      <td>/</td>\n",
       "      <td>Forward Diagonal</td>\n",
       "    </tr>\n",
       "    <tr>\n",
       "      <th>2</th>\n",
       "      <td>|</td>\n",
       "      <td>Vertical Bar</td>\n",
       "    </tr>\n",
       "    <tr>\n",
       "      <th>3</th>\n",
       "      <td>-</td>\n",
       "      <td>Horizontal Bar</td>\n",
       "    </tr>\n",
       "    <tr>\n",
       "      <th>4</th>\n",
       "      <td>x</td>\n",
       "      <td>Diagonal Cross</td>\n",
       "    </tr>\n",
       "    <tr>\n",
       "      <th>5</th>\n",
       "      <td>+</td>\n",
       "      <td>Cross</td>\n",
       "    </tr>\n",
       "    <tr>\n",
       "      <th>6</th>\n",
       "      <td>s</td>\n",
       "      <td>Solid Fill (default)</td>\n",
       "    </tr>\n",
       "  </tbody>\n",
       "</table>\n",
       "</div>"
      ],
      "text/plain": [
       "  MARKER            ESRI_STYLE\n",
       "0      \\     Backward Diagonal\n",
       "1      /      Forward Diagonal\n",
       "2      |          Vertical Bar\n",
       "3      -        Horizontal Bar\n",
       "4      x        Diagonal Cross\n",
       "5      +                 Cross\n",
       "6      s  Solid Fill (default)"
      ]
     },
     "execution_count": 28,
     "metadata": {},
     "output_type": "execute_result"
    }
   ],
   "source": [
    "show_styles('Polygon')"
   ]
  },
  {
   "cell_type": "code",
   "execution_count": 29,
   "metadata": {},
   "outputs": [
    {
     "data": {
      "text/html": [
       "<div>\n",
       "<style scoped>\n",
       "    .dataframe tbody tr th:only-of-type {\n",
       "        vertical-align: middle;\n",
       "    }\n",
       "\n",
       "    .dataframe tbody tr th {\n",
       "        vertical-align: top;\n",
       "    }\n",
       "\n",
       "    .dataframe thead th {\n",
       "        text-align: right;\n",
       "    }\n",
       "</style>\n",
       "<table border=\"1\" class=\"dataframe\">\n",
       "  <thead>\n",
       "    <tr style=\"text-align: right;\">\n",
       "      <th></th>\n",
       "      <th>MARKER</th>\n",
       "      <th>ESRI_STYLE</th>\n",
       "    </tr>\n",
       "  </thead>\n",
       "  <tbody>\n",
       "    <tr>\n",
       "      <th>0</th>\n",
       "      <td>s</td>\n",
       "      <td>Solid (default)</td>\n",
       "    </tr>\n",
       "    <tr>\n",
       "      <th>1</th>\n",
       "      <td>-</td>\n",
       "      <td>Dash</td>\n",
       "    </tr>\n",
       "    <tr>\n",
       "      <th>2</th>\n",
       "      <td>-.</td>\n",
       "      <td>Dash Dot</td>\n",
       "    </tr>\n",
       "    <tr>\n",
       "      <th>3</th>\n",
       "      <td>-..</td>\n",
       "      <td>Dash Dot Dot</td>\n",
       "    </tr>\n",
       "    <tr>\n",
       "      <th>4</th>\n",
       "      <td>.</td>\n",
       "      <td>Dot</td>\n",
       "    </tr>\n",
       "    <tr>\n",
       "      <th>5</th>\n",
       "      <td>--</td>\n",
       "      <td>Long Dash</td>\n",
       "    </tr>\n",
       "    <tr>\n",
       "      <th>6</th>\n",
       "      <td>--.</td>\n",
       "      <td>Long Dash Dot</td>\n",
       "    </tr>\n",
       "    <tr>\n",
       "      <th>7</th>\n",
       "      <td>n</td>\n",
       "      <td>Null</td>\n",
       "    </tr>\n",
       "    <tr>\n",
       "      <th>8</th>\n",
       "      <td>s-</td>\n",
       "      <td>Short Dash</td>\n",
       "    </tr>\n",
       "    <tr>\n",
       "      <th>9</th>\n",
       "      <td>s-.</td>\n",
       "      <td>Short Dash Dot</td>\n",
       "    </tr>\n",
       "    <tr>\n",
       "      <th>10</th>\n",
       "      <td>s-..</td>\n",
       "      <td>Short Dash Dot Dot</td>\n",
       "    </tr>\n",
       "    <tr>\n",
       "      <th>11</th>\n",
       "      <td>s.</td>\n",
       "      <td>Short Dot</td>\n",
       "    </tr>\n",
       "  </tbody>\n",
       "</table>\n",
       "</div>"
      ],
      "text/plain": [
       "   MARKER          ESRI_STYLE\n",
       "0       s     Solid (default)\n",
       "1       -                Dash\n",
       "2      -.            Dash Dot\n",
       "3     -..        Dash Dot Dot\n",
       "4       .                 Dot\n",
       "5      --           Long Dash\n",
       "6     --.       Long Dash Dot\n",
       "7       n                Null\n",
       "8      s-          Short Dash\n",
       "9     s-.      Short Dash Dot\n",
       "10   s-..  Short Dash Dot Dot\n",
       "11     s.           Short Dot"
      ]
     },
     "execution_count": 29,
     "metadata": {},
     "output_type": "execute_result"
    }
   ],
   "source": [
    "show_styles('Line')"
   ]
  },
  {
   "cell_type": "markdown",
   "metadata": {},
   "source": [
    "For instance, you can represent the same set of points using square symbols instead of default circle using the snippet shown below:"
   ]
  },
  {
   "cell_type": "code",
   "execution_count": null,
   "metadata": {},
   "outputs": [],
   "source": [
    "m7 = GIS().map('United States', 4)\n",
    "m7"
   ]
  },
  {
   "cell_type": "markdown",
   "metadata": {},
   "source": [
    "![map of US squares](http://esri.github.io/arcgis-python-api/notebooks/nbimages/13_4_map_dfplot2.png)"
   ]
  },
  {
   "cell_type": "code",
   "execution_count": 31,
   "metadata": {},
   "outputs": [
    {
     "data": {
      "text/plain": [
       "True"
      ]
     },
     "execution_count": 31,
     "metadata": {},
     "output_type": "execute_result"
    }
   ],
   "source": [
    "m7.center = [39, -98]\n",
    "df.plot(map_widget=m7, kind='map',\n",
    "        symbol_type='simple',\n",
    "        symbol_style='s',  # for square\n",
    "        cmap='Greens_r',   # color map is Greens_r for green reversed\n",
    "        cstep=35,   # the individual color in the colormap\n",
    "        outline_color='binary',\n",
    "        marker_size=5,\n",
    "        line_width=.5,)"
   ]
  },
  {
   "cell_type": "markdown",
   "metadata": {},
   "source": [
    "### Visualizing line features using simple symbols\n",
    "Let us search for USA freeway layer and visualize it by looping through the different line symbols"
   ]
  },
  {
   "cell_type": "code",
   "execution_count": 32,
   "metadata": {},
   "outputs": [
    {
     "data": {
      "text/html": [
       "<div class=\"item_container\" style=\"height: auto; overflow: hidden; border: 1px solid #cfcfcf; border-radius: 2px; background: #f6fafa; line-height: 1.21429em; padding: 10px;\">\n",
       "                    <div class=\"item_left\" style=\"width: 210px; float: left;\">\n",
       "                       <a href='https://www.arcgis.com/home/item.html?id=91c6a5f6410b4991ab0db1d7c26daacb' target='_blank'>\n",
       "                        <img src='https://www.arcgis.com/sharing/rest//content/items/91c6a5f6410b4991ab0db1d7c26daacb/info/thumbnail/USA_Freeway_Systerm.jpg' class=\"itemThumbnail\">\n",
       "                       </a>\n",
       "                    </div>\n",
       "\n",
       "                    <div class=\"item_right\"     style=\"float: none; width: auto; overflow: hidden;\">\n",
       "                        <a href='https://www.arcgis.com/home/item.html?id=91c6a5f6410b4991ab0db1d7c26daacb' target='_blank'><b>USA Freeway System</b>\n",
       "                        </a>\n",
       "                        <br/>This layer presents rural and urban interstate highways.<img src='https://www.arcgis.com/home/js/jsapi/esri/css/images/item_type_icons/featureshosted16.png' style=\"vertical-align:middle;\">Feature Layer Collection by esri\n",
       "                        <br/>Last Modified: February 07, 2017\n",
       "                        <br/>1 comments, 976,515 views\n",
       "                    </div>\n",
       "                </div>\n",
       "                "
      ],
      "text/plain": [
       "<Item title:\"USA Freeway System\" type:Feature Layer Collection owner:esri>"
      ]
     },
     "execution_count": 32,
     "metadata": {},
     "output_type": "execute_result"
    }
   ],
   "source": [
    "search_result = gis.content.search('title:USA freeway system AND owner:esri', \n",
    "                                  item_type = 'Feature Layer')\n",
    "freeway_item = search_result[0]\n",
    "freeway_item"
   ]
  },
  {
   "cell_type": "code",
   "execution_count": 33,
   "metadata": {},
   "outputs": [
    {
     "data": {
      "text/html": [
       "<div>\n",
       "<style scoped>\n",
       "    .dataframe tbody tr th:only-of-type {\n",
       "        vertical-align: middle;\n",
       "    }\n",
       "\n",
       "    .dataframe tbody tr th {\n",
       "        vertical-align: top;\n",
       "    }\n",
       "\n",
       "    .dataframe thead th {\n",
       "        text-align: right;\n",
       "    }\n",
       "</style>\n",
       "<table border=\"1\" class=\"dataframe\">\n",
       "  <thead>\n",
       "    <tr style=\"text-align: right;\">\n",
       "      <th></th>\n",
       "      <th>CLASS</th>\n",
       "      <th>DIST_KM</th>\n",
       "      <th>DIST_MILES</th>\n",
       "      <th>NUMBER</th>\n",
       "      <th>OBJECTID</th>\n",
       "      <th>ROUTE_NUM</th>\n",
       "      <th>SUFFIX</th>\n",
       "      <th>SHAPE</th>\n",
       "    </tr>\n",
       "  </thead>\n",
       "  <tbody>\n",
       "    <tr>\n",
       "      <th>0</th>\n",
       "      <td>C</td>\n",
       "      <td>8.25588</td>\n",
       "      <td>5.12996</td>\n",
       "      <td>G8</td>\n",
       "      <td>1</td>\n",
       "      <td>CG8</td>\n",
       "      <td></td>\n",
       "      <td>{'paths': [[[-121.892261711658, 37.32391610061...</td>\n",
       "    </tr>\n",
       "    <tr>\n",
       "      <th>1</th>\n",
       "      <td>I</td>\n",
       "      <td>31.91401</td>\n",
       "      <td>19.83041</td>\n",
       "      <td>105</td>\n",
       "      <td>2</td>\n",
       "      <td>I105</td>\n",
       "      <td></td>\n",
       "      <td>{'paths': [[[-118.368428716304, 33.93055610296...</td>\n",
       "    </tr>\n",
       "    <tr>\n",
       "      <th>2</th>\n",
       "      <td>I</td>\n",
       "      <td>77.66011</td>\n",
       "      <td>48.25566</td>\n",
       "      <td>205</td>\n",
       "      <td>3</td>\n",
       "      <td>I205</td>\n",
       "      <td></td>\n",
       "      <td>{'paths': [[[-122.561879717577, 45.54969107336...</td>\n",
       "    </tr>\n",
       "    <tr>\n",
       "      <th>3</th>\n",
       "      <td>I</td>\n",
       "      <td>150.36972</td>\n",
       "      <td>93.43523</td>\n",
       "      <td>215</td>\n",
       "      <td>4</td>\n",
       "      <td>I215</td>\n",
       "      <td></td>\n",
       "      <td>{'paths': [[[-117.319118714291, 34.14458511089...</td>\n",
       "    </tr>\n",
       "    <tr>\n",
       "      <th>4</th>\n",
       "      <td>I</td>\n",
       "      <td>3.27579</td>\n",
       "      <td>2.03548</td>\n",
       "      <td>238</td>\n",
       "      <td>5</td>\n",
       "      <td>I238</td>\n",
       "      <td></td>\n",
       "      <td>{'paths': [[[-122.137358724846, 37.69015308551...</td>\n",
       "    </tr>\n",
       "  </tbody>\n",
       "</table>\n",
       "</div>"
      ],
      "text/plain": [
       "  CLASS    DIST_KM  DIST_MILES NUMBER  OBJECTID ROUTE_NUM SUFFIX  \\\n",
       "0     C    8.25588     5.12996     G8         1       CG8          \n",
       "1     I   31.91401    19.83041    105         2      I105          \n",
       "2     I   77.66011    48.25566    205         3      I205          \n",
       "3     I  150.36972    93.43523    215         4      I215          \n",
       "4     I    3.27579     2.03548    238         5      I238          \n",
       "\n",
       "                                               SHAPE  \n",
       "0  {'paths': [[[-121.892261711658, 37.32391610061...  \n",
       "1  {'paths': [[[-118.368428716304, 33.93055610296...  \n",
       "2  {'paths': [[[-122.561879717577, 45.54969107336...  \n",
       "3  {'paths': [[[-117.319118714291, 34.14458511089...  \n",
       "4  {'paths': [[[-122.137358724846, 37.69015308551...  "
      ]
     },
     "execution_count": 33,
     "metadata": {},
     "output_type": "execute_result"
    }
   ],
   "source": [
    "freeway_sdf = freeway_item.layers[0].query().df\n",
    "freeway_sdf.head()"
   ]
  },
  {
   "cell_type": "code",
   "execution_count": null,
   "metadata": {},
   "outputs": [],
   "source": [
    "m8 = gis.map('USA', 10)\n",
    "m8"
   ]
  },
  {
   "cell_type": "markdown",
   "metadata": {},
   "source": [
    "![](http://esri.github.io/arcgis-python-api/notebooks/nbimages/guide_sdf_lines_animated_1.gif)"
   ]
  },
  {
   "cell_type": "code",
   "execution_count": 35,
   "metadata": {},
   "outputs": [],
   "source": [
    "m8.center=[34.05,-118.2]\n",
    "m8.zoom=12\n",
    "m8.basemap='dark-gray'"
   ]
  },
  {
   "cell_type": "code",
   "execution_count": 36,
   "metadata": {},
   "outputs": [
    {
     "name": "stdout",
     "output_type": "stream",
     "text": [
      "Solid (default) : s\n",
      "Dash : -\n",
      "Dash Dot : -.\n",
      "Dash Dot Dot : -..\n",
      "Dot : .\n",
      "Long Dash : --\n",
      "Long Dash Dot : --.\n",
      "Null : n\n",
      "Short Dash : s-\n",
      "Short Dash Dot : s-.\n",
      "Short Dash Dot Dot : s-..\n",
      "Short Dot : s.\n"
     ]
    }
   ],
   "source": [
    "import time\n",
    "for row, style in show_styles('Line').iterrows():\n",
    "    m8.remove_layers()\n",
    "    time.sleep(1)  # sleep for 1 second so animation can finish\n",
    "    print(style['ESRI_STYLE'] + \" : \" + style['MARKER'])\n",
    "    freeway_sdf.plot(kind='map', map_widget=m8,\n",
    "                     cmap='Spectral',  # user a different color map\n",
    "                     symbol_type='simple',\n",
    "                     symbol_style=style['MARKER']\n",
    "                    )"
   ]
  },
  {
   "cell_type": "markdown",
   "metadata": {},
   "source": [
    "### Visualizing area features using different symbols"
   ]
  },
  {
   "cell_type": "code",
   "execution_count": 37,
   "metadata": {},
   "outputs": [
    {
     "data": {
      "text/html": [
       "<div>\n",
       "<style scoped>\n",
       "    .dataframe tbody tr th:only-of-type {\n",
       "        vertical-align: middle;\n",
       "    }\n",
       "\n",
       "    .dataframe tbody tr th {\n",
       "        vertical-align: top;\n",
       "    }\n",
       "\n",
       "    .dataframe thead th {\n",
       "        text-align: right;\n",
       "    }\n",
       "</style>\n",
       "<table border=\"1\" class=\"dataframe\">\n",
       "  <thead>\n",
       "    <tr style=\"text-align: right;\">\n",
       "      <th></th>\n",
       "      <th>AGE_18_21</th>\n",
       "      <th>AGE_22_29</th>\n",
       "      <th>AGE_30_39</th>\n",
       "      <th>AGE_40_49</th>\n",
       "      <th>AGE_50_64</th>\n",
       "      <th>AGE_5_17</th>\n",
       "      <th>AGE_65_UP</th>\n",
       "      <th>AGE_UNDER5</th>\n",
       "      <th>AMERI_ES</th>\n",
       "      <th>ASIAN</th>\n",
       "      <th>...</th>\n",
       "      <th>POP2007</th>\n",
       "      <th>RENTER_OCC</th>\n",
       "      <th>SQMI</th>\n",
       "      <th>STATE_FIPS</th>\n",
       "      <th>STATE_NAME</th>\n",
       "      <th>Shape_Area</th>\n",
       "      <th>Shape_Length</th>\n",
       "      <th>VACANT</th>\n",
       "      <th>WHITE</th>\n",
       "      <th>SHAPE</th>\n",
       "    </tr>\n",
       "  </thead>\n",
       "  <tbody>\n",
       "    <tr>\n",
       "      <th>0</th>\n",
       "      <td>948</td>\n",
       "      <td>1735</td>\n",
       "      <td>2183</td>\n",
       "      <td>2110</td>\n",
       "      <td>2132</td>\n",
       "      <td>4061</td>\n",
       "      <td>1707</td>\n",
       "      <td>1552</td>\n",
       "      <td>112</td>\n",
       "      <td>99</td>\n",
       "      <td>...</td>\n",
       "      <td>17555</td>\n",
       "      <td>1653</td>\n",
       "      <td>1930.0</td>\n",
       "      <td>53</td>\n",
       "      <td>Washington</td>\n",
       "      <td>0.590994</td>\n",
       "      <td>3.879553</td>\n",
       "      <td>544</td>\n",
       "      <td>10672</td>\n",
       "      <td>{'rings': [[[-119.36961802215399, 46.737285024...</td>\n",
       "    </tr>\n",
       "    <tr>\n",
       "      <th>1</th>\n",
       "      <td>1014</td>\n",
       "      <td>1778</td>\n",
       "      <td>2662</td>\n",
       "      <td>3071</td>\n",
       "      <td>3430</td>\n",
       "      <td>3835</td>\n",
       "      <td>3355</td>\n",
       "      <td>1406</td>\n",
       "      <td>260</td>\n",
       "      <td>105</td>\n",
       "      <td>...</td>\n",
       "      <td>21237</td>\n",
       "      <td>2752</td>\n",
       "      <td>640.6</td>\n",
       "      <td>53</td>\n",
       "      <td>Washington</td>\n",
       "      <td>0.193369</td>\n",
       "      <td>2.127905</td>\n",
       "      <td>747</td>\n",
       "      <td>19650</td>\n",
       "      <td>{'rings': [[[-117.48006100031489, 46.085736986...</td>\n",
       "    </tr>\n",
       "    <tr>\n",
       "      <th>2</th>\n",
       "      <td>7424</td>\n",
       "      <td>13169</td>\n",
       "      <td>20500</td>\n",
       "      <td>22796</td>\n",
       "      <td>21572</td>\n",
       "      <td>31580</td>\n",
       "      <td>14655</td>\n",
       "      <td>10779</td>\n",
       "      <td>1165</td>\n",
       "      <td>3134</td>\n",
       "      <td>...</td>\n",
       "      <td>164259</td>\n",
       "      <td>16522</td>\n",
       "      <td>1760.0</td>\n",
       "      <td>53</td>\n",
       "      <td>Washington</td>\n",
       "      <td>0.531696</td>\n",
       "      <td>3.259149</td>\n",
       "      <td>3097</td>\n",
       "      <td>122879</td>\n",
       "      <td>{'rings': [[[-119.87687899986594, 46.562399986...</td>\n",
       "    </tr>\n",
       "    <tr>\n",
       "      <th>3</th>\n",
       "      <td>3435</td>\n",
       "      <td>5897</td>\n",
       "      <td>9006</td>\n",
       "      <td>10413</td>\n",
       "      <td>9987</td>\n",
       "      <td>13886</td>\n",
       "      <td>9242</td>\n",
       "      <td>4750</td>\n",
       "      <td>661</td>\n",
       "      <td>451</td>\n",
       "      <td>...</td>\n",
       "      <td>71939</td>\n",
       "      <td>8843</td>\n",
       "      <td>2993.7</td>\n",
       "      <td>53</td>\n",
       "      <td>Washington</td>\n",
       "      <td>0.932106</td>\n",
       "      <td>6.259164</td>\n",
       "      <td>5386</td>\n",
       "      <td>55711</td>\n",
       "      <td>{'rings': [[[-121.17981297788657, 47.896832976...</td>\n",
       "    </tr>\n",
       "    <tr>\n",
       "      <th>4</th>\n",
       "      <td>2977</td>\n",
       "      <td>4466</td>\n",
       "      <td>7109</td>\n",
       "      <td>9803</td>\n",
       "      <td>12273</td>\n",
       "      <td>10857</td>\n",
       "      <td>13727</td>\n",
       "      <td>3313</td>\n",
       "      <td>3303</td>\n",
       "      <td>731</td>\n",
       "      <td>...</td>\n",
       "      <td>70908</td>\n",
       "      <td>7407</td>\n",
       "      <td>1764.3</td>\n",
       "      <td>53</td>\n",
       "      <td>Washington</td>\n",
       "      <td>0.551224</td>\n",
       "      <td>5.627030</td>\n",
       "      <td>3519</td>\n",
       "      <td>57505</td>\n",
       "      <td>{'rings': [[[-124.73315299891175, 48.163761012...</td>\n",
       "    </tr>\n",
       "  </tbody>\n",
       "</table>\n",
       "<p>5 rows × 53 columns</p>\n",
       "</div>"
      ],
      "text/plain": [
       "   AGE_18_21  AGE_22_29  AGE_30_39  AGE_40_49  AGE_50_64  AGE_5_17  AGE_65_UP  \\\n",
       "0        948       1735       2183       2110       2132      4061       1707   \n",
       "1       1014       1778       2662       3071       3430      3835       3355   \n",
       "2       7424      13169      20500      22796      21572     31580      14655   \n",
       "3       3435       5897       9006      10413       9987     13886       9242   \n",
       "4       2977       4466       7109       9803      12273     10857      13727   \n",
       "\n",
       "   AGE_UNDER5  AMERI_ES  ASIAN  \\\n",
       "0        1552       112     99   \n",
       "1        1406       260    105   \n",
       "2       10779      1165   3134   \n",
       "3        4750       661    451   \n",
       "4        3313      3303    731   \n",
       "\n",
       "                         ...                          POP2007  RENTER_OCC  \\\n",
       "0                        ...                            17555        1653   \n",
       "1                        ...                            21237        2752   \n",
       "2                        ...                           164259       16522   \n",
       "3                        ...                            71939        8843   \n",
       "4                        ...                            70908        7407   \n",
       "\n",
       "     SQMI  STATE_FIPS  STATE_NAME Shape_Area  Shape_Length  VACANT   WHITE  \\\n",
       "0  1930.0          53  Washington   0.590994      3.879553     544   10672   \n",
       "1   640.6          53  Washington   0.193369      2.127905     747   19650   \n",
       "2  1760.0          53  Washington   0.531696      3.259149    3097  122879   \n",
       "3  2993.7          53  Washington   0.932106      6.259164    5386   55711   \n",
       "4  1764.3          53  Washington   0.551224      5.627030    3519   57505   \n",
       "\n",
       "                                               SHAPE  \n",
       "0  {'rings': [[[-119.36961802215399, 46.737285024...  \n",
       "1  {'rings': [[[-117.48006100031489, 46.085736986...  \n",
       "2  {'rings': [[[-119.87687899986594, 46.562399986...  \n",
       "3  {'rings': [[[-121.17981297788657, 47.896832976...  \n",
       "4  {'rings': [[[-124.73315299891175, 48.163761012...  \n",
       "\n",
       "[5 rows x 53 columns]"
      ]
     },
     "execution_count": 37,
     "metadata": {},
     "output_type": "execute_result"
    }
   ],
   "source": [
    "from arcgis.features import FeatureLayer\n",
    "fl = FeatureLayer(\"https://sampleserver6.arcgisonline.com/arcgis/rest/services/Census/MapServer/2\")\n",
    "county_sdf = fl.query(\"STATE_NAME='Washington'\", out_sr=4326).df\n",
    "county_sdf.head()"
   ]
  },
  {
   "cell_type": "code",
   "execution_count": 38,
   "metadata": {},
   "outputs": [
    {
     "data": {
      "application/vnd.jupyter.widget-view+json": {
       "model_id": "aacf020e44a04d1699b9e3eea9ae5336",
       "version_major": 2,
       "version_minor": 0
      },
      "text/plain": [
       "MapView(basemaps=['dark-gray', 'dark-gray-vector', 'gray', 'gray-vector', 'hybrid', 'national-geographic', 'oc…"
      ]
     },
     "metadata": {},
     "output_type": "display_data"
    }
   ],
   "source": [
    "m9 = gis.map('Seattle, WA', zoomlevel=6)\n",
    "m9.basemap='gray'\n",
    "m9"
   ]
  },
  {
   "cell_type": "markdown",
   "metadata": {},
   "source": [
    "![](http://esri.github.io/arcgis-python-api/notebooks/nbimages/guide_sdf_animate_polygons_1.gif)"
   ]
  },
  {
   "cell_type": "code",
   "execution_count": 39,
   "metadata": {},
   "outputs": [
    {
     "name": "stdout",
     "output_type": "stream",
     "text": [
      "Backward Diagonal : \\\n",
      "Forward Diagonal : /\n",
      "Vertical Bar : |\n",
      "Horizontal Bar : -\n",
      "Diagonal Cross : x\n",
      "Cross : +\n",
      "Solid Fill (default) : s\n"
     ]
    }
   ],
   "source": [
    "for idx, style in show_styles('Polygon').iterrows():\n",
    "    m9.remove_layers()\n",
    "    time.sleep(0.5)\n",
    "    \n",
    "    print(style['ESRI_STYLE'] + \" : \" + style['MARKER'])\n",
    "    county_sdf.plot(kind='map', map_widget=m9,\n",
    "                   cmap = 'RdPu',  # use a red to purple color map\n",
    "                   symbol_type='simple',\n",
    "                   symbol_style=style['MARKER'],\n",
    "                   outline_style='s',\n",
    "                   outline_color=[0,0,0,255],\n",
    "                   line_width=1.0)"
   ]
  },
  {
   "cell_type": "markdown",
   "metadata": {},
   "source": [
    "**Conclusion**\n",
    "\n",
    "\n",
    "The `SpatialDataFrame` gives you powerful visualization capabilities that allows you to plot your data on the interactive map widget. You specify colors and symbols using the same syntax that you would specify for a normal Pandas or a matplotlib plot."
   ]
  }
 ],
 "metadata": {
  "kernelspec": {
   "display_name": "Python 3",
   "language": "python",
   "name": "python3"
  },
  "language_info": {
   "codemirror_mode": {
    "name": "ipython",
    "version": 3
   },
   "file_extension": ".py",
   "mimetype": "text/x-python",
   "name": "python",
   "nbconvert_exporter": "python",
   "pygments_lexer": "ipython3",
   "version": "3.6.6"
  }
 },
 "nbformat": 4,
 "nbformat_minor": 2
}
